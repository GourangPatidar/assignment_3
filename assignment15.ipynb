{
 "cells": [
  {
   "cell_type": "markdown",
   "id": "5fc448cc",
   "metadata": {},
   "source": [
    "# Q1"
   ]
  },
  {
   "cell_type": "code",
   "execution_count": 12,
   "id": "1f56d27a",
   "metadata": {},
   "outputs": [],
   "source": [
    "sec_per_minute=60\n",
    "min_per_hour=60"
   ]
  },
  {
   "cell_type": "code",
   "execution_count": 13,
   "id": "be39f58d",
   "metadata": {},
   "outputs": [],
   "source": [
    "no_of_sec_in_hour=no_of_min_in_hour*no_of_sec_in_minute"
   ]
  },
  {
   "cell_type": "code",
   "execution_count": 15,
   "id": "06647212",
   "metadata": {
    "scrolled": true
   },
   "outputs": [
    {
     "name": "stdout",
     "output_type": "stream",
     "text": [
      "3600\n"
     ]
    }
   ],
   "source": [
    "print(no_of_sec_in_hour)"
   ]
  },
  {
   "cell_type": "markdown",
   "id": "32e1937a",
   "metadata": {},
   "source": [
    "# Q2"
   ]
  },
  {
   "cell_type": "code",
   "execution_count": 16,
   "id": "b6075c90",
   "metadata": {},
   "outputs": [],
   "source": [
    "sec_per_hour=no_of_sec_in_hour"
   ]
  },
  {
   "cell_type": "markdown",
   "id": "624def62",
   "metadata": {},
   "source": [
    "# Q3"
   ]
  },
  {
   "cell_type": "code",
   "execution_count": 17,
   "id": "1114ff36",
   "metadata": {},
   "outputs": [],
   "source": [
    "sec_per_day=24*no_of_min_in_hour*no_of_sec_in_minute"
   ]
  },
  {
   "cell_type": "code",
   "execution_count": 18,
   "id": "69e36e7d",
   "metadata": {},
   "outputs": [
    {
     "name": "stdout",
     "output_type": "stream",
     "text": [
      "86400\n"
     ]
    }
   ],
   "source": [
    "print(sec_per_day)"
   ]
  },
  {
   "cell_type": "markdown",
   "id": "f377b400",
   "metadata": {},
   "source": [
    "# Q4"
   ]
  },
  {
   "cell_type": "code",
   "execution_count": 19,
   "id": "6d2fa897",
   "metadata": {},
   "outputs": [],
   "source": [
    "seconds_per_day=24*min_per_hour*sec_per_minute"
   ]
  },
  {
   "cell_type": "markdown",
   "id": "7adb2f74",
   "metadata": {},
   "source": [
    "# Q5"
   ]
  },
  {
   "cell_type": "code",
   "execution_count": 21,
   "id": "ffe9b862",
   "metadata": {},
   "outputs": [
    {
     "data": {
      "text/plain": [
       "24.0"
      ]
     },
     "execution_count": 21,
     "metadata": {},
     "output_type": "execute_result"
    }
   ],
   "source": [
    "seconds_per_day/sec_per_hour"
   ]
  },
  {
   "cell_type": "code",
   "execution_count": 22,
   "id": "af68469c",
   "metadata": {},
   "outputs": [
    {
     "data": {
      "text/plain": [
       "24"
      ]
     },
     "execution_count": 22,
     "metadata": {},
     "output_type": "execute_result"
    }
   ],
   "source": [
    "seconds_per_day//sec_per_hour"
   ]
  },
  {
   "cell_type": "markdown",
   "id": "0a94e1d8",
   "metadata": {},
   "source": [
    "# Q6"
   ]
  },
  {
   "cell_type": "code",
   "execution_count": 48,
   "id": "31ffcab5",
   "metadata": {},
   "outputs": [
    {
     "name": "stdout",
     "output_type": "stream",
     "text": [
      "2\n",
      "3\n",
      "5\n",
      "7\n",
      "11\n"
     ]
    }
   ],
   "source": [
    "def genPrimes():\n",
    "    n = 0\n",
    "    while True:\n",
    "        if n == 2 or n == 3 :\n",
    "            yield n\n",
    "        elif ((n-1)%6 == 0 or (n+1)%6 == 0) and n !=1:\n",
    "            yield n\n",
    "        n = n+1\n",
    "        \n",
    "output = genPrimes()\n",
    "for ele in range(5):\n",
    "    print(next(output))"
   ]
  },
  {
   "cell_type": "code",
   "execution_count": null,
   "id": "e1ecd48f",
   "metadata": {},
   "outputs": [],
   "source": []
  }
 ],
 "metadata": {
  "kernelspec": {
   "display_name": "Python 3 (ipykernel)",
   "language": "python",
   "name": "python3"
  },
  "language_info": {
   "codemirror_mode": {
    "name": "ipython",
    "version": 3
   },
   "file_extension": ".py",
   "mimetype": "text/x-python",
   "name": "python",
   "nbconvert_exporter": "python",
   "pygments_lexer": "ipython3",
   "version": "3.9.12"
  }
 },
 "nbformat": 4,
 "nbformat_minor": 5
}
